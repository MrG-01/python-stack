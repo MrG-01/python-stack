{
 "cells": [
  {
   "cell_type": "markdown",
   "id": "3269fd0a-a91d-4cf2-a816-b79c347b2b3b",
   "metadata": {},
   "source": [
    "### Beautiful Soup"
   ]
  },
  {
   "cell_type": "markdown",
   "id": "23ab5d73-cde8-4b9a-9b9b-db308f6a96d0",
   "metadata": {},
   "source": [
    "#### Python library for web scarping HTML and XML files."
   ]
  },
  {
   "cell_type": "markdown",
   "id": "50869241-72a7-4dd3-b457-0319abbcfe8e",
   "metadata": {},
   "source": [
    "### Links\n",
    "\n",
    "* [Documentation](https://beautiful-soup-4.readthedocs.io/en/latest/)  \n",
    "* [PyPI](https://pypi.org/project/beautifulsoup4/)  \n",
    "* [Src](https://launchpad.net/beautifulsoup)\n",
    "* [Implementing Web Scraping in Python with BeautifulSoup](https://www.geeksforgeeks.org/implementing-web-scraping-python-beautiful-soup/)\n",
    "* [Beautiful Soup: Build a Web Scraper With Python](https://realpython.com/beautiful-soup-web-scraper-python/)"
   ]
  }
 ],
 "metadata": {
  "kernelspec": {
   "display_name": "Python 3 (ipykernel)",
   "language": "python",
   "name": "python3"
  },
  "language_info": {
   "codemirror_mode": {
    "name": "ipython",
    "version": 3
   },
   "file_extension": ".py",
   "mimetype": "text/x-python",
   "name": "python",
   "nbconvert_exporter": "python",
   "pygments_lexer": "ipython3",
   "version": "3.12.9"
  }
 },
 "nbformat": 4,
 "nbformat_minor": 5
}
